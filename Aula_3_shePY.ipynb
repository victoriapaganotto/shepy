{
  "nbformat": 4,
  "nbformat_minor": 0,
  "metadata": {
    "colab": {
      "name": "Aula 3 - shePY.ipynb",
      "provenance": [],
      "authorship_tag": "ABX9TyNwt0OIzzxGmNi7Yd63m7Lc",
      "include_colab_link": true
    },
    "kernelspec": {
      "name": "python3",
      "display_name": "Python 3"
    },
    "language_info": {
      "name": "python"
    }
  },
  "cells": [
    {
      "cell_type": "markdown",
      "metadata": {
        "id": "view-in-github",
        "colab_type": "text"
      },
      "source": [
        "<a href=\"https://colab.research.google.com/github/victoriapaganotto/shepy/blob/main/Aula_3_shePY.ipynb\" target=\"_parent\"><img src=\"https://colab.research.google.com/assets/colab-badge.svg\" alt=\"Open In Colab\"/></a>"
      ]
    },
    {
      "cell_type": "markdown",
      "metadata": {
        "id": "xTSWgBv3yXpg"
      },
      "source": [
        "## Aula 3 - shePY\n",
        "##Estruturas condicionais com Python\n",
        "\n",
        "Quando programamos muitas vezes precisamos que determinado bloco de  de código seja executado apenas se uma determinada condição for verdadeira. Nesse caso, devemos fazer uso de estrutura de condição.\n",
        "\n",
        "**if:**\n",
        "if (em português, se): é uma estrutura de condição que permite avaliar uma expressão e, de acordo com o seu resultado, executar uma determinada ação.\n",
        "\n",
        "**else:**\n",
        "Caso a condição avaliada com if não seja atendida, definimos um fluxo alternativo que o código deve seguir.\n",
        "\n",
        "**elif**\n",
        "O elif é uma contração do else if que torma mais claro o tratamento de várias alternativas, encadeando condições."
      ]
    },
    {
      "cell_type": "code",
      "metadata": {
        "colab": {
          "base_uri": "https://localhost:8080/"
        },
        "id": "ZV40JggYyKb3",
        "outputId": "99608508-4e05-4a40-e56e-c2a0d21b1276"
      },
      "source": [
        "nota = int(input('Digite uma nota:'))\n",
        "\n",
        "if nota >= 8:\n",
        "  print ('Aprovada satisfatoriamente.')\n",
        "  \n",
        "  print ('Fim!')"
      ],
      "execution_count": null,
      "outputs": [
        {
          "output_type": "stream",
          "text": [
            "Digite uma nota:5\n"
          ],
          "name": "stdout"
        }
      ]
    },
    {
      "cell_type": "code",
      "metadata": {
        "colab": {
          "base_uri": "https://localhost:8080/"
        },
        "id": "YWko7ml83sak",
        "outputId": "7c35306f-c5db-4ba0-e313-3cb642466f1f"
      },
      "source": [
        "nota = int(input('Digite uma nota:'))\n",
        "\n",
        "if nota >= 8:\n",
        "  print ('Aprovada satisfatoriamente.')\n",
        "else: \n",
        "  print ('Não aprovada satisfatoriamente.')\n",
        "\n",
        "print ('Fim!')"
      ],
      "execution_count": null,
      "outputs": [
        {
          "output_type": "stream",
          "text": [
            "Digite uma nota:5\n",
            "Não aprovada satisfatoriamente.\n",
            "Fim!\n"
          ],
          "name": "stdout"
        }
      ]
    },
    {
      "cell_type": "code",
      "metadata": {
        "id": "vFYkQPr71K3Z"
      },
      "source": [
        ""
      ],
      "execution_count": null,
      "outputs": []
    },
    {
      "cell_type": "code",
      "metadata": {
        "colab": {
          "base_uri": "https://localhost:8080/"
        },
        "id": "fNfvr4Hw4kSd",
        "outputId": "60bf6cb7-8e3c-449a-b7df-eac3832a6d13"
      },
      "source": [
        "nota = int(input('Digite uma nota:'))\n",
        "\n",
        "if nota >= 8:\n",
        "  print ('Aprovada satisfatoriamente.')\n",
        "\n",
        "elif nota== 7:\n",
        "  print ('Aprovada')\n",
        "  \n",
        "else: \n",
        "  print ('Não aprovada satisfatoriamente.')\n",
        "\n",
        "print ('Fim!')"
      ],
      "execution_count": null,
      "outputs": [
        {
          "output_type": "stream",
          "text": [
            "Digite uma nota:7\n",
            "Aprovada\n",
            "Fim!\n"
          ],
          "name": "stdout"
        }
      ]
    },
    {
      "cell_type": "code",
      "metadata": {
        "colab": {
          "base_uri": "https://localhost:8080/"
        },
        "id": "SjD245f86S4T",
        "outputId": "d53956ca-cdbd-41f6-9436-b2a3e899e559"
      },
      "source": [
        "from random import randint\n",
        "\n",
        "computador = randint(0, 10)\n",
        "print ('Vamos jogar um jogo! Tente adivinhar o número que eu estou pensando: de 0 a 10')\n",
        "\n",
        "jogador = int(input('Qual número eu pensei?'))\n",
        "\n",
        "if jogador == computador: \n",
        "  print('Acertou. Você VENCEU o JOGO!')\n",
        "\n",
        "else: \n",
        "  print('Errou! Você PERDEU o JOGO!')\n",
        "\n",
        "print (computador)"
      ],
      "execution_count": null,
      "outputs": [
        {
          "output_type": "stream",
          "text": [
            "Vamos jogar um jogo! Tente adivinhar o número que eu estou pensando: de 0 a 10\n",
            "Qual número eu pensei?10\n",
            "Errou! Você PERDEU o JOGO!\n",
            "2\n"
          ],
          "name": "stdout"
        }
      ]
    },
    {
      "cell_type": "markdown",
      "metadata": {
        "id": "_aiRXsaB9qnk"
      },
      "source": [
        "### DESAFIO para as alunas: \n",
        "Desenvolva um programa que pergunte a distância de uma viagem em Km. Calcule o preço da passagem, cobrando 0.60 reais por Km para viagens de até 100Km, cobrando 0.50 reais para viagens de até 300Km  e 0.40 reais para viagens mais longas."
      ]
    },
    {
      "cell_type": "code",
      "metadata": {
        "colab": {
          "base_uri": "https://localhost:8080/"
        },
        "id": "svZgjPGS9SHH",
        "outputId": "49ef30d9-2b28-473a-ffa2-8556aaf41f12"
      },
      "source": [
        "km = float(input('Qual distância você quer percorrer?'))\n",
        "\n",
        "if km <= 100:\n",
        "  passagem = km * 0.60\n",
        "elif km <= 300:\n",
        "  passagem = km * 0.50\n",
        "else:\n",
        "  passagem = km * 0.40\n",
        "\n",
        "print('Valor da passagem {}'. format(passagem))\n"
      ],
      "execution_count": null,
      "outputs": [
        {
          "output_type": "stream",
          "text": [
            "Qual distância você quer percorrer?200\n",
            "Valor da passagem 100.0\n"
          ],
          "name": "stdout"
        }
      ]
    },
    {
      "cell_type": "markdown",
      "metadata": {
        "id": "3jF7kot2BVp2"
      },
      "source": [
        "*** CRIANDO O JOGO*** Pedra, Papel, Tesura"
      ]
    },
    {
      "cell_type": "code",
      "metadata": {
        "id": "ncnNZmtzBBZQ"
      },
      "source": [
        "from random import choice\n",
        "\n",
        "jogador = str(input('Escolha entre Pedra, Papel e Tesoura: ')).capitalize()\n",
        "\n",
        "lista = ['Pedra', 'Papel', 'Tesoura']\n",
        "\n",
        "computador = choice(lista)\n",
        "\n",
        "print('Você jogou {}'.format(jogador))\n",
        "print('O computador jogou {}'. format(computador))\n",
        "\n",
        "if computador == 'Pedra':\n",
        "  if jogador == 'Pedra':\n",
        "    print('Empate.')\n",
        "  elif jogador == 'Papel':\n",
        "    print('Você venceu, parabéns!')\n",
        "  elif jogador == 'Tesoura':\n",
        "    print('A máquina venceu!')\n",
        "\n",
        "\n",
        "if computador == 'Papel':\n",
        "  if jogador == 'Pedra':\n",
        "    print('A máquina venceu!.')\n",
        "  elif jogador == 'Papel':\n",
        "    print('Empate!')\n",
        "  elif jogador == 'Tesoura':\n",
        "    print('Você venceu, parabéns!')\n",
        "\n",
        "\n",
        "if computador == 'Tesoura':\n",
        "  if jogador == 'Pedra':\n",
        "    print('Você venceu, parabéns!')\n",
        "  elif jogador == 'Papel':\n",
        "    print('A máquina venceu!')\n",
        "  elif jogador == 'Tesoura':\n",
        "    print('Empate!')\n",
        "\n",
        "else: \n",
        "  print('Jogada inválida.')\n"
      ],
      "execution_count": null,
      "outputs": []
    },
    {
      "cell_type": "markdown",
      "metadata": {
        "id": "E3MrAlnkHjfW"
      },
      "source": [
        "##Estruturas de repetição \n",
        "\n",
        "**while**:\n",
        "O while é o comando utilizado para programar repetições no Python baseadas na avaliação de uma condição. Enquanto a condição for verdadeira, o bloco de comandos inteiro ao while é repetido. Quando a condição se tornar falsa, o bloco de comandos deixa de repetir."
      ]
    },
    {
      "cell_type": "code",
      "metadata": {
        "colab": {
          "base_uri": "https://localhost:8080/"
        },
        "id": "E4m8ztCUIJXs",
        "outputId": "0245e6c5-9e3d-410d-d79b-7f64d18d9721"
      },
      "source": [
        "lista_pessoas = []\n",
        "\n",
        "nome = str(input('Digite um nome:'))\n",
        "\n",
        "while nome != 'fim':\n",
        "  lista_pessoas.append(nome)\n",
        "  nome = str(input('Digite um nome: '))\n",
        "\n",
        "print ('Nomes digitados: ')\n",
        "print (lista_pessoas)"
      ],
      "execution_count": null,
      "outputs": [
        {
          "output_type": "stream",
          "text": [
            "Digite um nome:Ana\n",
            "Digite um nome: Maria\n",
            "Digite um nome: fim\n",
            "Nomes digitados: \n",
            "['Ana', 'Maria']\n"
          ],
          "name": "stdout"
        }
      ]
    },
    {
      "cell_type": "code",
      "metadata": {
        "colab": {
          "base_uri": "https://localhost:8080/"
        },
        "id": "N9k9d2vvJqV6",
        "outputId": "8293c221-0a09-47ea-d0db-5dc744574c7f"
      },
      "source": [
        "lista_pessoas = []\n",
        "cont = 0\n",
        "\n",
        "nome = str(input('Digite um nome: '))\n",
        "\n",
        "while cont < 5:\n",
        "  lista_pessoas.append(nome)\n",
        "  nome = str(input('Digite um nome: '))\n",
        "  cont = cont + 1\n",
        "\n",
        "print('Nomes digitados')\n",
        "print(lista_pessoas)"
      ],
      "execution_count": null,
      "outputs": [
        {
          "output_type": "stream",
          "text": [
            "Digite um nome: Maria\n",
            "Digite um nome: Fernanda\n",
            "Digite um nome: Ana\n",
            "Digite um nome: Cristina\n",
            "Digite um nome: Taís\n",
            "Digite um nome: Maria\n",
            "Nomes digitados\n",
            "['Maria', 'Fernanda', 'Ana', 'Cristina', 'Taís']\n"
          ],
          "name": "stdout"
        }
      ]
    },
    {
      "cell_type": "markdown",
      "metadata": {
        "id": "N2OjEgrqKtYH"
      },
      "source": [
        "**for:**\n",
        "O laço for nos permite percorrer os itens de uma coleção, e para cada um deles, executar o código declarado no laço."
      ]
    },
    {
      "cell_type": "code",
      "metadata": {
        "colab": {
          "base_uri": "https://localhost:8080/"
        },
        "id": "10M_1gynKqfe",
        "outputId": "ee3bb0e9-5695-4e6f-c656-230b26bf0a8a"
      },
      "source": [
        "lista_numeros = [1, 6, 9, 16, 20]\n",
        "\n",
        "for num in lista_numeros:\n",
        "  print (num)"
      ],
      "execution_count": null,
      "outputs": [
        {
          "output_type": "stream",
          "text": [
            "1\n",
            "6\n",
            "9\n",
            "16\n",
            "20\n"
          ],
          "name": "stdout"
        }
      ]
    },
    {
      "cell_type": "code",
      "metadata": {
        "colab": {
          "base_uri": "https://localhost:8080/"
        },
        "id": "CS9fsn64Kqi-",
        "outputId": "259537ae-4257-494a-a2c0-0f1d602c380d"
      },
      "source": [
        "for num in lista_numeros:\n",
        "  if num % 2 == 0:\n",
        "    print('{} é par'.format(num))\n",
        "  else:\n",
        "    print('{} é impar'.format(num))\n",
        "\n"
      ],
      "execution_count": null,
      "outputs": [
        {
          "output_type": "stream",
          "text": [
            "1 é impar\n",
            "6 é par\n",
            "9 é impar\n",
            "16 é par\n",
            "20 é par\n"
          ],
          "name": "stdout"
        }
      ]
    },
    {
      "cell_type": "code",
      "metadata": {
        "colab": {
          "base_uri": "https://localhost:8080/"
        },
        "id": "z2kuxFdqMRzy",
        "outputId": "b5b63cb9-3eea-412a-f011-817a3c574038"
      },
      "source": [
        "num = int(input('Digite o número que deseja imprimir na taboada: '))\n",
        "\n",
        "for mult in range(1,11):\n",
        "  print ('{} x {} = {}' .format(num, mult, num*mult))"
      ],
      "execution_count": null,
      "outputs": [
        {
          "output_type": "stream",
          "text": [
            "Digite o número que deseja imprimir na taboada: 7\n",
            "7 x 1 = 7\n",
            "7 x 2 = 14\n",
            "7 x 3 = 21\n",
            "7 x 4 = 28\n",
            "7 x 5 = 35\n",
            "7 x 6 = 42\n",
            "7 x 7 = 49\n",
            "7 x 8 = 56\n",
            "7 x 9 = 63\n",
            "7 x 10 = 70\n"
          ],
          "name": "stdout"
        }
      ]
    },
    {
      "cell_type": "markdown",
      "metadata": {
        "id": "4gAAs-BCM2KV"
      },
      "source": [
        "##Funções:\n",
        "\n",
        "Funções são trechos de códigos que podem ser executados em momentos diferentes nos nossos códigos em Python.\n",
        "\n",
        "\n",
        "\n",
        "```\n",
        "def nome_da_função():\n",
        "   comandos da função\n",
        "```\n",
        "\n"
      ]
    },
    {
      "cell_type": "code",
      "metadata": {
        "id": "d8LDzIRVNVex"
      },
      "source": [
        "def soma(a, b):\n",
        "  s = a + b \n",
        "  print(s)\n",
        "  "
      ],
      "execution_count": null,
      "outputs": []
    },
    {
      "cell_type": "code",
      "metadata": {
        "colab": {
          "base_uri": "https://localhost:8080/"
        },
        "id": "PlWf7jGHNoWi",
        "outputId": "b7ae159a-53be-49b9-c807-b00790a7ee9b"
      },
      "source": [
        "soma(2, 4)"
      ],
      "execution_count": null,
      "outputs": [
        {
          "output_type": "stream",
          "text": [
            "6\n"
          ],
          "name": "stdout"
        }
      ]
    },
    {
      "cell_type": "code",
      "metadata": {
        "colab": {
          "base_uri": "https://localhost:8080/"
        },
        "id": "XjkCbvUQNuSC",
        "outputId": "7258e2cb-b0df-4067-f714-4cd7dd112322"
      },
      "source": [
        "soma(3, 10)"
      ],
      "execution_count": null,
      "outputs": [
        {
          "output_type": "stream",
          "text": [
            "13\n"
          ],
          "name": "stdout"
        }
      ]
    },
    {
      "cell_type": "markdown",
      "metadata": {
        "id": "THlXg7wtOTs9"
      },
      "source": [
        "### DESAFIO: \n",
        "Faça um programa que tenha uma função chamada area(), que receba as dimensões de um terreno retangular (largura e comprimento) e mostre a área do terreno seguindo o exemplo:\n",
        "- 'A largura selecionada é de 5m e o comprimento é de 5m, sendo a área: 25m²'\n",
        "\n",
        "Após, teste sua função."
      ]
    },
    {
      "cell_type": "code",
      "metadata": {
        "id": "xqaS7KOWORgJ"
      },
      "source": [
        "def area (largura, comprimento):\n",
        "  area = largura * comprimento\n",
        "  print('A área é de {}'.format(area))"
      ],
      "execution_count": null,
      "outputs": []
    },
    {
      "cell_type": "code",
      "metadata": {
        "colab": {
          "base_uri": "https://localhost:8080/"
        },
        "id": "ptkQtJNqPRgL",
        "outputId": "4b60c556-56c0-4036-a7f8-2bb46504b2c3"
      },
      "source": [
        "area(5, 5)"
      ],
      "execution_count": null,
      "outputs": [
        {
          "output_type": "stream",
          "text": [
            "A área é de 25\n"
          ],
          "name": "stdout"
        }
      ]
    },
    {
      "cell_type": "markdown",
      "metadata": {
        "id": "0ZRn0m1QBLrC"
      },
      "source": [
        "\n"
      ]
    }
  ]
}