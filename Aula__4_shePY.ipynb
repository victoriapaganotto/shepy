{
  "nbformat": 4,
  "nbformat_minor": 0,
  "metadata": {
    "colab": {
      "name": "Aula _4_shePY.ipynb",
      "provenance": [],
      "authorship_tag": "ABX9TyO49gaSvYY8vzWIFtElvAbC",
      "include_colab_link": true
    },
    "kernelspec": {
      "name": "python3",
      "display_name": "Python 3"
    },
    "language_info": {
      "name": "python"
    }
  },
  "cells": [
    {
      "cell_type": "markdown",
      "metadata": {
        "id": "view-in-github",
        "colab_type": "text"
      },
      "source": [
        "<a href=\"https://colab.research.google.com/github/victoriapaganotto/shepy/blob/main/Aula__4_shePY.ipynb\" target=\"_parent\"><img src=\"https://colab.research.google.com/assets/colab-badge.svg\" alt=\"Open In Colab\"/></a>"
      ]
    },
    {
      "cell_type": "markdown",
      "metadata": {
        "id": "RvruCHQhQTZL"
      },
      "source": [
        "## Aula 4 - shePY\n",
        "## **NumPY - Numerical Python**\n",
        "\n",
        "NumPY é uma poderosa biblioteca que suporta arrays e matrizes, e muito importante para o processamento numérico em Python.\n",
        "Esses tipos de cáculos numéricos são amplamente utilizados em tarefas, como: Modelos em Machine Learning, Visão Computacional e tarefas matemáticas.\n",
        "\n",
        "Alguns recursos do NumPY:\n",
        "* *ndarray*: um array multidimensional eficaz que oferece operações rápidas.\n",
        "* Funções matemáticas para operações rápidas em *arrays* de dados, sem que haja a necessidade de escrever laços.\n",
        "\n",
        "Em **Python**, *arrays* são estruturas de dados semelhantes às listas, mas não tão flexíveis, pois possuem um tamanho fixo informado no momento em que são inicializados. O *array* usa menos memória do que a lista, é mais rápido nas operações de leitura e possibilita executar operações matemáticas sobre todos os itens de uma só vez."
      ]
    },
    {
      "cell_type": "markdown",
      "metadata": {
        "id": "bRnoz4usSK8Q"
      },
      "source": [
        "### **Criando arrays com Numpy:**"
      ]
    },
    {
      "cell_type": "code",
      "metadata": {
        "id": "b8YYel4DSO-O"
      },
      "source": [
        "import numpy as np"
      ],
      "execution_count": null,
      "outputs": []
    },
    {
      "cell_type": "markdown",
      "metadata": {
        "id": "0DxsHiH2Uk1l"
      },
      "source": [
        "\n",
        "**Arrays de 1 dimensão:**"
      ]
    },
    {
      "cell_type": "code",
      "metadata": {
        "colab": {
          "base_uri": "https://localhost:8080/"
        },
        "id": "sdN8ZlQFQMpU",
        "outputId": "568e86a4-d73f-4470-8ff0-d8b98fe5d065"
      },
      "source": [
        "# Criando um array a partir de uma lista\n",
        "mylist = [1, 2, 3]\n",
        "myarray = np.array(mylist)\n",
        "myarray\n"
      ],
      "execution_count": null,
      "outputs": [
        {
          "output_type": "execute_result",
          "data": {
            "text/plain": [
              "array([1, 2, 3])"
            ]
          },
          "metadata": {
            "tags": []
          },
          "execution_count": 15
        }
      ]
    },
    {
      "cell_type": "code",
      "metadata": {
        "colab": {
          "base_uri": "https://localhost:8080/"
        },
        "id": "w2MlYiEcS5Eu",
        "outputId": "fbc89cc9-8c2d-4c49-c0de-7f5835b5288c"
      },
      "source": [
        "type(myarray)\n"
      ],
      "execution_count": null,
      "outputs": [
        {
          "output_type": "execute_result",
          "data": {
            "text/plain": [
              "numpy.ndarray"
            ]
          },
          "metadata": {
            "tags": []
          },
          "execution_count": 16
        }
      ]
    },
    {
      "cell_type": "code",
      "metadata": {
        "colab": {
          "base_uri": "https://localhost:8080/"
        },
        "id": "q8Sk6ZKJS-bH",
        "outputId": "bf17a292-6d94-4aff-86af-f55bcf0e3630"
      },
      "source": [
        "myarray = np.array([1,2,3])\n",
        "myarray"
      ],
      "execution_count": null,
      "outputs": [
        {
          "output_type": "execute_result",
          "data": {
            "text/plain": [
              "array([1, 2, 3])"
            ]
          },
          "metadata": {
            "tags": []
          },
          "execution_count": 5
        }
      ]
    },
    {
      "cell_type": "code",
      "metadata": {
        "colab": {
          "base_uri": "https://localhost:8080/"
        },
        "id": "TYJOBqgQTKy9",
        "outputId": "6b7b25b3-ba92-4573-b854-9535915f59cd"
      },
      "source": [
        "# Criando um array com arange, sendo intervalo de 0 a 10.\n",
        "ald = np.arange(0, 10)\n",
        "ald"
      ],
      "execution_count": null,
      "outputs": [
        {
          "output_type": "execute_result",
          "data": {
            "text/plain": [
              "array([0, 1, 2, 3, 4, 5, 6, 7, 8, 9])"
            ]
          },
          "metadata": {
            "tags": []
          },
          "execution_count": 6
        }
      ]
    },
    {
      "cell_type": "code",
      "metadata": {
        "colab": {
          "base_uri": "https://localhost:8080/"
        },
        "id": "QhWy_oylTToV",
        "outputId": "13761bc7-c270-420f-ce0b-9c6eface23c9"
      },
      "source": [
        "# Criando um array de zeros.\n",
        "zeros = np.zeros(5)\n",
        "zeros"
      ],
      "execution_count": null,
      "outputs": [
        {
          "output_type": "execute_result",
          "data": {
            "text/plain": [
              "array([0., 0., 0., 0., 0.])"
            ]
          },
          "metadata": {
            "tags": []
          },
          "execution_count": 7
        }
      ]
    },
    {
      "cell_type": "markdown",
      "metadata": {
        "id": "jdR5M-8IUJ9e"
      },
      "source": [
        "**Arrays de 2 dimensões:**"
      ]
    },
    {
      "cell_type": "code",
      "metadata": {
        "colab": {
          "base_uri": "https://localhost:8080/"
        },
        "id": "OfdK2n89UDLO",
        "outputId": "b5895cd9-8b38-4799-8c50-75aef03e689c"
      },
      "source": [
        "a2d = np.array([ [1, 2, 3], [4, 5, 6], [7, 8, 9] ])\n",
        "a2d"
      ],
      "execution_count": null,
      "outputs": [
        {
          "output_type": "execute_result",
          "data": {
            "text/plain": [
              "array([[1, 2, 3],\n",
              "       [4, 5, 6],\n",
              "       [7, 8, 9]])"
            ]
          },
          "metadata": {
            "tags": []
          },
          "execution_count": 10
        }
      ]
    },
    {
      "cell_type": "code",
      "metadata": {
        "colab": {
          "base_uri": "https://localhost:8080/"
        },
        "id": "Gmib83QPUHlJ",
        "outputId": "a8a198a0-9af4-4b34-9ab3-672b2fdb4586"
      },
      "source": [
        "zeros2d = np.zeros(shape=(3,4)) # 3 linhas e 4 colunas\n",
        "zeros2d"
      ],
      "execution_count": null,
      "outputs": [
        {
          "output_type": "execute_result",
          "data": {
            "text/plain": [
              "array([[0., 0., 0., 0.],\n",
              "       [0., 0., 0., 0.],\n",
              "       [0., 0., 0., 0.]])"
            ]
          },
          "metadata": {
            "tags": []
          },
          "execution_count": 14
        }
      ]
    },
    {
      "cell_type": "markdown",
      "metadata": {
        "id": "V5LkSXA4WUpz"
      },
      "source": [
        "**Array de 3 dimensões:**"
      ]
    },
    {
      "cell_type": "code",
      "metadata": {
        "colab": {
          "base_uri": "https://localhost:8080/"
        },
        "id": "aLZsWlpUWYgd",
        "outputId": "818a1cd1-eafd-4c1e-9ec0-313bcd071257"
      },
      "source": [
        "array3d = np.array([[ [1, 2, 3,], [4, 5, 6,], [7, 9, 9], [10, 11, 12] ]])\n",
        "array3d\n",
        "# Possível criar mais páginas, fechando os colchetes"
      ],
      "execution_count": null,
      "outputs": [
        {
          "output_type": "execute_result",
          "data": {
            "text/plain": [
              "array([[[ 1,  2,  3],\n",
              "        [ 4,  5,  6],\n",
              "        [ 7,  9,  9],\n",
              "        [10, 11, 12]]])"
            ]
          },
          "metadata": {
            "tags": []
          },
          "execution_count": 18
        }
      ]
    },
    {
      "cell_type": "code",
      "metadata": {
        "colab": {
          "base_uri": "https://localhost:8080/"
        },
        "id": "K1p6xK4JXi4o",
        "outputId": "77e4dfbe-a714-4510-ba76-2e4345816a0b"
      },
      "source": [
        "zeros3d = np.zeros(shape=(3,4,2)) # 3 páginas, 4 linhas e 2 colunas\n",
        "zeros3d"
      ],
      "execution_count": null,
      "outputs": [
        {
          "output_type": "execute_result",
          "data": {
            "text/plain": [
              "array([[[0., 0.],\n",
              "        [0., 0.],\n",
              "        [0., 0.],\n",
              "        [0., 0.]],\n",
              "\n",
              "       [[0., 0.],\n",
              "        [0., 0.],\n",
              "        [0., 0.],\n",
              "        [0., 0.]],\n",
              "\n",
              "       [[0., 0.],\n",
              "        [0., 0.],\n",
              "        [0., 0.],\n",
              "        [0., 0.]]])"
            ]
          },
          "metadata": {
            "tags": []
          },
          "execution_count": 20
        }
      ]
    },
    {
      "cell_type": "markdown",
      "metadata": {
        "id": "1GoZoZIvXLmV"
      },
      "source": [
        "## **Comparação de performance do Numpy**"
      ]
    },
    {
      "cell_type": "code",
      "metadata": {
        "colab": {
          "base_uri": "https://localhost:8080/"
        },
        "id": "l_0LmswfXT4p",
        "outputId": "e9f9a636-0045-4e53-a8f0-5987849e8666"
      },
      "source": [
        "idades = np. random.randint(50, size=1000)\n",
        "len(idades)"
      ],
      "execution_count": null,
      "outputs": [
        {
          "output_type": "execute_result",
          "data": {
            "text/plain": [
              "1000"
            ]
          },
          "metadata": {
            "tags": []
          },
          "execution_count": 19
        }
      ]
    },
    {
      "cell_type": "code",
      "metadata": {
        "colab": {
          "base_uri": "https://localhost:8080/"
        },
        "id": "enQlP-cUXcqW",
        "outputId": "04e15697-5925-4fbe-c089-6a7a891e8858"
      },
      "source": [
        "%timeit sum(idades) # Somar idades usando a função sum() do Python"
      ],
      "execution_count": null,
      "outputs": [
        {
          "output_type": "stream",
          "text": [
            "10000 loops, best of 5: 184 µs per loop\n"
          ],
          "name": "stdout"
        }
      ]
    },
    {
      "cell_type": "code",
      "metadata": {
        "colab": {
          "base_uri": "https://localhost:8080/"
        },
        "id": "yFL1SU8rXvER",
        "outputId": "a09371ce-68b1-498b-a672-00440afca29b"
      },
      "source": [
        "%timeit np.sum(idades) # Somar as idades usando a função np.sum() do Numpy"
      ],
      "execution_count": null,
      "outputs": [
        {
          "output_type": "stream",
          "text": [
            "The slowest run took 14.37 times longer than the fastest. This could mean that an intermediate result is being cached.\n",
            "100000 loops, best of 5: 4.77 µs per loop\n"
          ],
          "name": "stdout"
        }
      ]
    },
    {
      "cell_type": "markdown",
      "metadata": {
        "id": "1-kLpc7aFfL1"
      },
      "source": [
        "## **Introdução à Estatística Básica**\n",
        "\n",
        "### **População e Amostra**\n",
        "Uma população é um conjunto de pessoas, itens ou eventos sobre os quais você quer fazer interferências. Uma amostra é um subconjunto de uma população que se analisa para fazer inferências.\n",
        "\n",
        "### **Tipos de Dados**\n",
        "1. *Qualitativos*: consistem em atributos, qualidades, características.\n",
        "* Nominais: esses dados representam nomes, rótulos ou categorias que não têm ordem ou hierarquia.\n",
        "* Ordinais: esses dados mantêm uma relação de ordem.\n",
        "2. *Quantitativos*: consistem em medidas ou contagens numéricas.\n",
        "* Discretos: resultam de um conjunto finito ou emnumerável de valores possíveis (contagens).\n",
        "* Contínuos: resultam de um número finito de valores possíveis (mensurações).\n",
        "\n",
        "### **Medidas de Tendência Central**\n",
        "As medidas de tendência central mostram o valor representativo em torno do qual os dados tendem a agrupar-se, dão o ponto central em torno do qual os dados se distribuem.\n",
        "1. *Média*: a média de uma amostra é denotada por *x* barra e a média de uma população é denotada por µ. Para calcular a média de um conjunto de valores é necessário somar todos os valores obtidos e dividir por *n* (que representa o tamanho da amostra).\n",
        "2. *Mediana*: é o valor que divide o conjunto de dados ao meio, deixando os 50% menores valores de um lado e os 50% maiores valores do outro lado. Para calcular a mediana é necessário que o conjunto de valores seja organizado em ordem crescente. Se *n* é ímpar, a mediana é dada pelo valor que ocupa a posição central. Se *n* é par, a mediana será a média dos valores que ocupam as posições centrais.\n",
        "3. *Moda*: dado um conjunto de valores, a moda desses valores será aquele que se repetir o maior número de vezes.\n",
        "\n",
        "### **Medidas de dispersão/ Variabilidade**\n",
        "As medidas de *dispersão* mostram o grau de afastamento dos valores observados em relação ao ponto central de distribuição dos dados.\n",
        "1. *Amplitude*: é definida como sendo a diferença entre o maior e o menor valor do conjunto de dados.\n",
        "2. *Variância e desvio padrão*: a variância e o desvio padrão medem a variação do conjunto de dados em torno da média. É possível perceber que a unidade de medida da variância equivale à unidade de medida dos dados ao quadrado. Dessa maneira, é mais comum trabalharmos com a raiz quadrada da variância, ou seja, com o desvio padrão.\n",
        "\n",
        "![](https://calculareconverter.com.br/wp-content/uploads/2018/08/formula-variancia.jpg)\n",
        "\n",
        "### **Medidas de posição relativa**\n",
        "As medidas de **posição** relativa mostram pontos de corte na distribuição relativa dos dados da amostra.\n",
        "1. **Quartis:** assim como a mediana divide os dados em duas partes iguais, os três quartis, denotados por *Q1*, *Q2* e *Q3*, dividem as observações ordenadas (dispostas em ordem crescente) em quatro partes aproximadamente iguais, ou seja, há cerca de 25% dos dados em cada grupo.\n",
        "2. **Decis:** analongamente, há nove decis, denotados por *D1*, *D2*, *D3*, ..., com cerca de 10% dos dados em cada grupo.\n",
        "3. **Percentis:** há, finalmente, 99 percentis, que dividem os dados em 100 grupos, com cerca de 1% dos dados em cada grupo.\n",
        "\n",
        "![](https://sondagenseestudosdeopiniao.files.wordpress.com/2011/10/est-descr-_quadro41.jpg?w=863)\n",
        "\n",
        "### EXERCÍCIOS:\n",
        "\n",
        "### **Desafio 1:**\n",
        "\n",
        "Uma professora está interessada em avaliar o tempo (em minutos) que os alunos demoram entre o iníccio e a finalização de uma prova. Para isso, observou 12 alunos escolhidos aleatoriamente no sistema. Os dados encontram-se abaixo:\n",
        "\n",
        "* Tempo em minutos: 71, 73, 73, 74, 74, 75, 76, 77, 77, 79, 81, 83\n",
        "\n",
        "**Calcule a média, a mediana e a moda!**\n",
        "\n",
        "\n",
        "\n"
      ]
    },
    {
      "cell_type": "code",
      "metadata": {
        "id": "1CH0IMJ-QodN"
      },
      "source": [
        "import numpy as np   # Importar bibliotecas\n",
        "from scipy import stats"
      ],
      "execution_count": 1,
      "outputs": []
    },
    {
      "cell_type": "code",
      "metadata": {
        "id": "QpOeKtvMRDjh"
      },
      "source": [
        "time = np.array([71, 73, 73, 74, 74, 75, 76, 77, 77, 79, 81, 83])"
      ],
      "execution_count": 2,
      "outputs": []
    },
    {
      "cell_type": "code",
      "metadata": {
        "colab": {
          "base_uri": "https://localhost:8080/"
        },
        "id": "bLDQ7U2gRK-a",
        "outputId": "1ba603a6-41a2-4cfc-fc39-a5c6a4afc009"
      },
      "source": [
        "np.mean(time)"
      ],
      "execution_count": 3,
      "outputs": [
        {
          "output_type": "execute_result",
          "data": {
            "text/plain": [
              "76.08333333333333"
            ]
          },
          "metadata": {
            "tags": []
          },
          "execution_count": 3
        }
      ]
    },
    {
      "cell_type": "code",
      "metadata": {
        "colab": {
          "base_uri": "https://localhost:8080/"
        },
        "id": "wd-jcwAURMzb",
        "outputId": "5626a905-892b-48c3-e7ac-0547e3238a1d"
      },
      "source": [
        "%timeit np.mean(time)"
      ],
      "execution_count": 4,
      "outputs": [
        {
          "output_type": "stream",
          "text": [
            "The slowest run took 46.63 times longer than the fastest. This could mean that an intermediate result is being cached.\n",
            "100000 loops, best of 5: 8.29 µs per loop\n"
          ],
          "name": "stdout"
        }
      ]
    },
    {
      "cell_type": "code",
      "metadata": {
        "colab": {
          "base_uri": "https://localhost:8080/"
        },
        "id": "Km--yCU6RRqB",
        "outputId": "6142dba7-9a8d-4989-a06d-2571b3db6de5"
      },
      "source": [
        "np.median(time)"
      ],
      "execution_count": 5,
      "outputs": [
        {
          "output_type": "execute_result",
          "data": {
            "text/plain": [
              "75.5"
            ]
          },
          "metadata": {
            "tags": []
          },
          "execution_count": 5
        }
      ]
    },
    {
      "cell_type": "code",
      "metadata": {
        "colab": {
          "base_uri": "https://localhost:8080/"
        },
        "id": "FbB4LMuARYWZ",
        "outputId": "170901c1-434d-47c1-c6f9-6fc46f8b7b0b"
      },
      "source": [
        "stats.mode(time)"
      ],
      "execution_count": 6,
      "outputs": [
        {
          "output_type": "execute_result",
          "data": {
            "text/plain": [
              "ModeResult(mode=array([73]), count=array([2]))"
            ]
          },
          "metadata": {
            "tags": []
          },
          "execution_count": 6
        }
      ]
    },
    {
      "cell_type": "markdown",
      "metadata": {
        "id": "yxVh4oTlRsk1"
      },
      "source": [
        "### **Desafio 2:**\n",
        "Considere uma amostra de um tempo em minutos que alunos gastam para chegar à uma escola.\n",
        "\n",
        "* Amostra: 5, 12, 25, 43, 67\n",
        "\n",
        "**Calcule a média, a variância e o desvio padrão!**"
      ]
    },
    {
      "cell_type": "code",
      "metadata": {
        "id": "18bwSQ48RZ-U"
      },
      "source": [
        "tempo = np.array([5, 12, 25, 43, 67])"
      ],
      "execution_count": 7,
      "outputs": []
    },
    {
      "cell_type": "code",
      "metadata": {
        "colab": {
          "base_uri": "https://localhost:8080/"
        },
        "id": "AEfQzyjASX3U",
        "outputId": "9b47702e-b105-4713-e9b0-33b0b48330a7"
      },
      "source": [
        "# Média, sem o auxílio do Numpy\n",
        "(5 + 12 + 25 + 43 + 67)/ len(tempo)"
      ],
      "execution_count": 8,
      "outputs": [
        {
          "output_type": "execute_result",
          "data": {
            "text/plain": [
              "30.4"
            ]
          },
          "metadata": {
            "tags": []
          },
          "execution_count": 8
        }
      ]
    },
    {
      "cell_type": "code",
      "metadata": {
        "colab": {
          "base_uri": "https://localhost:8080/"
        },
        "id": "uQZibqfXSdAL",
        "outputId": "fe5ff8e2-4478-47bf-aa2f-31f19286c6c9"
      },
      "source": [
        "# Variância, sem o auxílio do Numpy\n",
        "media = np.mean(tempo)\n",
        "soma = (5 - media) ** 2 + (12 - media) ** 2 + (25 - media) ** 2 + (43 - media) ** 2 + (67 - media) ** 2\n",
        "var = soma / (len(tempo) - 1)\n",
        "var"
      ],
      "execution_count": 9,
      "outputs": [
        {
          "output_type": "execute_result",
          "data": {
            "text/plain": [
              "627.8"
            ]
          },
          "metadata": {
            "tags": []
          },
          "execution_count": 9
        }
      ]
    },
    {
      "cell_type": "code",
      "metadata": {
        "colab": {
          "base_uri": "https://localhost:8080/"
        },
        "id": "dPVDqET-SlZB",
        "outputId": "4ba3db1c-3deb-4c52-b41e-c3a05eed8af0"
      },
      "source": [
        "# Média com Numpy\n",
        "np.mean(tempo)"
      ],
      "execution_count": 10,
      "outputs": [
        {
          "output_type": "execute_result",
          "data": {
            "text/plain": [
              "30.4"
            ]
          },
          "metadata": {
            "tags": []
          },
          "execution_count": 10
        }
      ]
    },
    {
      "cell_type": "code",
      "metadata": {
        "colab": {
          "base_uri": "https://localhost:8080/"
        },
        "id": "auegTSlkSqBW",
        "outputId": "add7220b-3485-4c69-ef19-8a9175972e96"
      },
      "source": [
        "#bVariância com Numpy\n",
        "np.var(tempo, ddof = 1)"
      ],
      "execution_count": 11,
      "outputs": [
        {
          "output_type": "execute_result",
          "data": {
            "text/plain": [
              "627.8"
            ]
          },
          "metadata": {
            "tags": []
          },
          "execution_count": 11
        }
      ]
    },
    {
      "cell_type": "code",
      "metadata": {
        "colab": {
          "base_uri": "https://localhost:8080/"
        },
        "id": "2gNXTOcFSvll",
        "outputId": "0a123d47-888a-4b50-efd7-34eb68d86443"
      },
      "source": [
        "# Desvio padrão com Numpy\n",
        "np.std(tempo, ddof = 1)"
      ],
      "execution_count": 12,
      "outputs": [
        {
          "output_type": "execute_result",
          "data": {
            "text/plain": [
              "25.055937420100648"
            ]
          },
          "metadata": {
            "tags": []
          },
          "execution_count": 12
        }
      ]
    },
    {
      "cell_type": "markdown",
      "metadata": {
        "id": "6bSczipfTkIo"
      },
      "source": [
        "### **Box Plot**\n",
        "O Boxplot é um gráfico para representar dados quantitativos sendo conveniente para revelar medidas de tendência central, dispersão, distribuição dos dados e a presença de *outliers* (valores discrepantes). A construção de um diagrama em caixa exige que tenhamos o valor mínimo, o primeiro quartil (**Q1**), a mediana (ou segundo quartil **Q2**), o terceiro quartil (**Q3**), o valor máximo e a distância interquartílica (**DIQ**).\n",
        "\n",
        "1. A distância interquartílica (**DIQ**) é obtida pela distância entre o terceiro e o primeiro quartil: **DIQ = Q3 - Q1**.\n",
        "\n",
        "Para identificar a presença de valores discrepantes na amostra, deve-se primeiramente calcular as seguintes medidas:\n",
        "**Q1 – 1,5xDIQ e Q3 + 1,5xDIQ**.\n",
        "Elas representam os limites para detecção de *outliers*."
      ]
    },
    {
      "cell_type": "code",
      "metadata": {
        "id": "-dO4wxRJS1Zn"
      },
      "source": [
        "data = np.array([18, 19, 21, 21, 22, 22, 22, 23, 23, 24, 32])"
      ],
      "execution_count": 13,
      "outputs": []
    },
    {
      "cell_type": "code",
      "metadata": {
        "id": "DihKn1CLUkKd"
      },
      "source": [
        "import matplotlib.pyplot as plt"
      ],
      "execution_count": 14,
      "outputs": []
    },
    {
      "cell_type": "code",
      "metadata": {
        "colab": {
          "base_uri": "https://localhost:8080/",
          "height": 401
        },
        "id": "zVkLs7joUoqd",
        "outputId": "b53b3c86-9bb0-4f1d-907b-c2f4600a2c0a"
      },
      "source": [
        "plt.boxplot(data)"
      ],
      "execution_count": 15,
      "outputs": [
        {
          "output_type": "execute_result",
          "data": {
            "text/plain": [
              "{'boxes': [<matplotlib.lines.Line2D at 0x7f45b71e49d0>],\n",
              " 'caps': [<matplotlib.lines.Line2D at 0x7f45b734a390>,\n",
              "  <matplotlib.lines.Line2D at 0x7f45b71f4510>],\n",
              " 'fliers': [<matplotlib.lines.Line2D at 0x7f45b76b4a10>],\n",
              " 'means': [],\n",
              " 'medians': [<matplotlib.lines.Line2D at 0x7f45b71f4c90>],\n",
              " 'whiskers': [<matplotlib.lines.Line2D at 0x7f45b71e4210>,\n",
              "  <matplotlib.lines.Line2D at 0x7f45b71e5050>]}"
            ]
          },
          "metadata": {
            "tags": []
          },
          "execution_count": 15
        },
        {
          "output_type": "display_data",
          "data": {
            "image/png": "[encoded data removed]",
            "text/plain": [
              "<Figure size 432x288 with 1 Axes>"
            ]
          },
          "metadata": {
            "tags": [],
            "needs_background": "light"
          }
        }
      ]
    }
  ]
}