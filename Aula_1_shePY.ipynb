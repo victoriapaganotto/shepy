{
  "nbformat": 4,
  "nbformat_minor": 0,
  "metadata": {
    "colab": {
      "name": "Aula 1 - shePY.ipynb",
      "provenance": [],
      "authorship_tag": "ABX9TyMWc7rtpM4g6bS8n2a6fcRe",
      "include_colab_link": true
    },
    "kernelspec": {
      "name": "python3",
      "display_name": "Python 3"
    },
    "language_info": {
      "name": "python"
    }
  },
  "cells": [
    {
      "cell_type": "markdown",
      "metadata": {
        "id": "view-in-github",
        "colab_type": "text"
      },
      "source": [
        "<a href=\"https://colab.research.google.com/github/victoriapaganotto/shepy/blob/main/Aula_1_shePY.ipynb\" target=\"_parent\"><img src=\"https://colab.research.google.com/assets/colab-badge.svg\" alt=\"Open In Colab\"/></a>"
      ]
    },
    {
      "cell_type": "markdown",
      "metadata": {
        "id": "a1VujSae8CFU"
      },
      "source": [
        "# Aula 1 - shePY\n",
        "\n",
        "Nessa aula nós iremos *trabalhar* com **Python** e realizar operações matemáticas."
      ]
    },
    {
      "cell_type": "markdown",
      "metadata": {
        "id": "7Hs5Bu1f8-jA"
      },
      "source": [
        "## Tipos de dados\n",
        "\n",
        "Numéricos:\n",
        "- Números Inteiros (**int**): 9, 7, -4, 2\n",
        "- Números Reais (**float**): 3.14, 66.4, 0.0\n",
        "\n",
        "Não numéricos:\n",
        "- Texto/string (**str**): 'Python', 'Victoria'. É importante sempre colocar entre aspas!\n",
        "- Lógico/boleano (**bool**): True ou False"
      ]
    },
    {
      "cell_type": "markdown",
      "metadata": {
        "id": "o2Q9AxuI-5ax"
      },
      "source": [
        "### Variáveis e identificadores\n",
        "\n",
        "Variáveis são elementos básicos na programação que armazenam os dados que precisamos em nosso algoritmo.\n",
        "\n",
        "Toda variável é caracterizada por um nome (que vai a identificar) e por um tipo.\n",
        "\n",
        "Um identificaor em Python pode conter apenas:\n",
        "- Letras de A a Z (minúsculas e maiúsuclas)\n",
        "- Digitos de 0 a 9\n",
        "- O símbolo underscore:_\n",
        "\n",
        "Regra:\n",
        "- O python diferencia letras maiúsculas e minúsculas (cuidado!)"
      ]
    },
    {
      "cell_type": "code",
      "metadata": {
        "colab": {
          "base_uri": "https://localhost:8080/"
        },
        "id": "3nuuaMtUBKId",
        "outputId": "4e567cf1-b022-4bea-aa9c-47b16ac1cfd4"
      },
      "source": [
        "nome = 'Maria'\n",
        "print(nome)\n",
        "\n",
        "idade = 24\n",
        "print (idade)\n"
      ],
      "execution_count": null,
      "outputs": [
        {
          "output_type": "stream",
          "text": [
            "Maria\n",
            "24\n"
          ],
          "name": "stdout"
        }
      ]
    },
    {
      "cell_type": "code",
      "metadata": {
        "colab": {
          "base_uri": "https://localhost:8080/"
        },
        "id": "wfP4FlYMBlqF",
        "outputId": "6d9968ed-8a60-43c4-974e-48f8be707d66"
      },
      "source": [
        "type (nome)\n"
      ],
      "execution_count": null,
      "outputs": [
        {
          "output_type": "execute_result",
          "data": {
            "text/plain": [
              "str"
            ]
          },
          "metadata": {
            "tags": []
          },
          "execution_count": 8
        }
      ]
    },
    {
      "cell_type": "code",
      "metadata": {
        "colab": {
          "base_uri": "https://localhost:8080/"
        },
        "id": "pdzxzD2cCfDy",
        "outputId": "834b8ec0-9873-48da-ab1a-9451eead7959"
      },
      "source": [
        "print ('Hello, world!')"
      ],
      "execution_count": null,
      "outputs": [
        {
          "output_type": "stream",
          "text": [
            "Hello, world!\n"
          ],
          "name": "stdout"
        }
      ]
    },
    {
      "cell_type": "code",
      "metadata": {
        "colab": {
          "base_uri": "https://localhost:8080/"
        },
        "id": "Pu6lrTi5Cu-c",
        "outputId": "99aabc98-0074-47bb-d6cd-4f891791f4a4"
      },
      "source": [
        "print ('Hello, world!')"
      ],
      "execution_count": null,
      "outputs": [
        {
          "output_type": "stream",
          "text": [
            "Hello, world!\n"
          ],
          "name": "stdout"
        }
      ]
    },
    {
      "cell_type": "code",
      "metadata": {
        "colab": {
          "base_uri": "https://localhost:8080/"
        },
        "id": "_PsFJEtxC40D",
        "outputId": "1b54b07c-79a5-403e-a570-e1069d1edea9"
      },
      "source": [
        "mensagem = 'Hello, world!'\n",
        "print (mensagem)"
      ],
      "execution_count": null,
      "outputs": [
        {
          "output_type": "stream",
          "text": [
            "Hello, world!\n"
          ],
          "name": "stdout"
        }
      ]
    },
    {
      "cell_type": "code",
      "metadata": {
        "colab": {
          "base_uri": "https://localhost:8080/"
        },
        "id": "At9r3p9CDRzB",
        "outputId": "200ce002-b5cf-4c01-b92f-1fc102ee1eb6"
      },
      "source": [
        "print (mensagem, 'Estou aprendendo a programar')"
      ],
      "execution_count": null,
      "outputs": [
        {
          "output_type": "stream",
          "text": [
            "Hello, world! Estou aprendendo a programar\n"
          ],
          "name": "stdout"
        }
      ]
    },
    {
      "cell_type": "code",
      "metadata": {
        "colab": {
          "base_uri": "https://localhost:8080/"
        },
        "id": "nz8PAByCDjH8",
        "outputId": "32996f71-405f-4e28-a8a4-dd2cf9257567"
      },
      "source": [
        "meu_nome = 'Maria'\n",
        "print (meu_nome)\n"
      ],
      "execution_count": null,
      "outputs": [
        {
          "output_type": "stream",
          "text": [
            "Maria\n"
          ],
          "name": "stdout"
        }
      ]
    },
    {
      "cell_type": "code",
      "metadata": {
        "colab": {
          "base_uri": "https://localhost:8080/"
        },
        "id": "1FGz55_qD_Ck",
        "outputId": "ceaeecb6-edc4-4b01-a4ed-2996c4829881"
      },
      "source": [
        "print (nome)"
      ],
      "execution_count": null,
      "outputs": [
        {
          "output_type": "stream",
          "text": [
            "Maria\n"
          ],
          "name": "stdout"
        }
      ]
    },
    {
      "cell_type": "code",
      "metadata": {
        "id": "HFiWcxXxEFgr"
      },
      "source": [
        "salario - 1245.30"
      ],
      "execution_count": null,
      "outputs": []
    },
    {
      "cell_type": "markdown",
      "metadata": {
        "id": "hmH1ojNp9Rkq"
      },
      "source": [
        "### Operações aritméticas"
      ]
    },
    {
      "cell_type": "code",
      "metadata": {
        "colab": {
          "base_uri": "https://localhost:8080/"
        },
        "id": "nT6n16JJIWsv",
        "outputId": "a14e4a33-6689-4dac-8712-23d717de2e49"
      },
      "source": [
        "num1 = 5\n",
        "num2 = 3\n",
        "print (num1 + num2)\n",
        "print (num1 - num2)\n",
        "print (num1 * num2)\n",
        "print (num1 / num2)\n",
        "print (num1 ** num2)"
      ],
      "execution_count": null,
      "outputs": [
        {
          "output_type": "stream",
          "text": [
            "8\n",
            "2\n",
            "15\n",
            "1.6666666666666667\n",
            "125\n"
          ],
          "name": "stdout"
        }
      ]
    },
    {
      "cell_type": "code",
      "metadata": {
        "colab": {
          "base_uri": "https://localhost:8080/"
        },
        "id": "KZKuRcpBJp2P",
        "outputId": "418edd3d-b8c2-4ae3-e00d-455f3b0e6d97"
      },
      "source": [
        "num1 = 5\n",
        "num2 = 3\n",
        "soma = num1 + num2\n",
        "print ('A soma entre {} e {} é: {}' .format (num1, num2, num1))"
      ],
      "execution_count": null,
      "outputs": [
        {
          "output_type": "stream",
          "text": [
            "A soma entre 5 e 3 é: 5\n"
          ],
          "name": "stdout"
        }
      ]
    },
    {
      "cell_type": "code",
      "metadata": {
        "colab": {
          "base_uri": "https://localhost:8080/"
        },
        "id": "Nfx90oW_KJR9",
        "outputId": "f421aa69-58ba-4e3d-be13-770b03e2b0b2"
      },
      "source": [
        "n1 = int(input('Digite um número:'))\n",
        "n2 = int(input('Digite um segundo número:'))\n",
        "n3 = int(input('Digite um terceiro número:'))\n",
        "\n",
        "subtracao = n1 - n2 - n3\n",
        "print (subtracao)"
      ],
      "execution_count": null,
      "outputs": [
        {
          "output_type": "stream",
          "text": [
            "Digite um número:10\n",
            "Digite um segundo número:10\n",
            "Digite um terceiro número:5\n",
            "-5\n"
          ],
          "name": "stdout"
        }
      ]
    },
    {
      "cell_type": "markdown",
      "metadata": {
        "id": "wtUwhtZ-MJPx"
      },
      "source": [
        "###Exercício 1:\n",
        "Criar um programa que peça para você digitar dois números do tipo (float)"
      ]
    },
    {
      "cell_type": "code",
      "metadata": {
        "colab": {
          "base_uri": "https://localhost:8080/"
        },
        "id": "70Va2WhBMLxG",
        "outputId": "7bafc6fb-7d67-4d40-a121-bb9e8ba448cf"
      },
      "source": [
        "nu1 = float(input('Número 1:'))\n",
        "nu2 = float(input('Número 2:'))\n",
        "\n",
        "soma = (nu1 + nu2)\n",
        "print ('A soma entre {} e {} é: {}' .format (nu1, nu2, soma))\n",
        "\n",
        "\n"
      ],
      "execution_count": null,
      "outputs": [
        {
          "output_type": "stream",
          "text": [
            "Número 1:1.2\n",
            "Número 2:2.5\n",
            "A soma entre 1.2 e 2.5 é: 3.7\n"
          ],
          "name": "stdout"
        }
      ]
    },
    {
      "cell_type": "code",
      "metadata": {
        "colab": {
          "base_uri": "https://localhost:8080/"
        },
        "id": "ZV91Ok2QOFpF",
        "outputId": "ff104935-b933-4768-ee7b-7ed19d5d5078"
      },
      "source": [
        "nu3 = int(input('Digite um número:'))\n",
        "antecessor = nu3 + 1\n",
        "sucessor = nu3 - 1\n",
        "print ('O antecessor do número {} é {} o sucessor é {}' .format (nu3, antecessor, sucessor))"
      ],
      "execution_count": null,
      "outputs": [
        {
          "output_type": "stream",
          "text": [
            "Digite um número:3\n",
            "O antecessor do número 3 é 4 o sucessor é 2\n"
          ],
          "name": "stdout"
        }
      ]
    },
    {
      "cell_type": "code",
      "metadata": {
        "colab": {
          "base_uri": "https://localhost:8080/"
        },
        "id": "zUy6K4_6PghW",
        "outputId": "0e598705-594e-4217-8e9c-0e3e97d92aa5"
      },
      "source": [
        "largura = float(input('Largura da parede:'))\n",
        "altura = float(input('Altura da parede:'))\n",
        "\n",
        "area = largura * altura\n",
        "\n",
        "tinta = area / 2\n",
        "\n",
        "print ('A área será de {} m² e a quantidade de tinta é {} litros.'.format(area,tinta))\n"
      ],
      "execution_count": null,
      "outputs": [
        {
          "output_type": "stream",
          "text": [
            "Largura da parede:2\n",
            "Altura da parede:3\n",
            "A área será de 6.0 m² e a quantidade de tinta é 3.0 litros.\n"
          ],
          "name": "stdout"
        }
      ]
    },
    {
      "cell_type": "code",
      "metadata": {
        "id": "m1-kPFwGRMdC"
      },
      "source": [
        "km = float(input ('Quantos km foram percorridos?'))\n",
        "dias = int(input ('Por quantos dias o carro foi alugado?'))\n",
        "\n",
        "unir = (dias * 80) + (km + 0.20)\n",
        "\n",
        "\n",
        "\n",
        "\n",
        "print('O preço a pagar é de {} reais'.format(unir))\n"
      ],
      "execution_count": null,
      "outputs": []
    }
  ]
}